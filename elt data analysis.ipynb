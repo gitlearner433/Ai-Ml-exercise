{
 "cells": [
  {
   "cell_type": "code",
   "execution_count": 29,
   "id": "03dd5497-adc1-42fa-86a1-d69535aa8f44",
   "metadata": {},
   "outputs": [],
   "source": [
    "import pandas as pd \n",
    "import numpy as np \n",
    "import mysql.connector \n",
    "import datetime \n",
    "import logging"
   ]
  },
  {
   "cell_type": "code",
   "execution_count": 30,
   "id": "da2c3d7e-4d7d-40f8-a310-a579eec158f1",
   "metadata": {},
   "outputs": [],
   "source": [
    "logging.basicConfig(\n",
    "    filename='etl_log.txt',\n",
    "    level=logging.INFO,\n",
    "    format='%(asctime)s - %(levelname)s - %(message)s'\n",
    ")"
   ]
  },
  {
   "cell_type": "code",
   "execution_count": 31,
   "id": "5cff904c-58f8-4d62-a9cc-3d78ba677354",
   "metadata": {},
   "outputs": [],
   "source": [
    "csv_file_path = 'employees1.csv'\n",
    "df = pd.read_csv(csv_file_path)"
   ]
  },
  {
   "cell_type": "code",
   "execution_count": 32,
   "id": "8bccfc8b-1197-46b0-9aa0-60273f07edcd",
   "metadata": {},
   "outputs": [
    {
     "name": "stdout",
     "output_type": "stream",
     "text": [
      "Raw data loaded:\n",
      "   EMPLOYEE_ID FIRST_NAME  LAST_NAME     EMAIL  PHONE_NUMBER  HIRE_DATE  \\\n",
      "0          198     Donald   OConnell  DOCONNEL  650.507.9833  21-Jun-07   \n",
      "1          199    Douglas      Grant    DGRANT  650.507.9844  13-Jan-08   \n",
      "2          200   Jennifer     Whalen   JWHALEN  515.123.4444  17-Sep-03   \n",
      "3          201    Michael  Hartstein  MHARTSTE  515.123.5555  17-Feb-04   \n",
      "4          202        Pat        Fay      PFAY  603.123.6666  17-Aug-05   \n",
      "\n",
      "     JOB_ID  SALARY  \n",
      "0  SH_CLERK    2600  \n",
      "1  SH_CLERK    2600  \n",
      "2   AD_ASST    4400  \n",
      "3    MK_MAN   13000  \n",
      "4    MK_REP    6000  \n",
      "Columns: ['EMPLOYEE_ID', 'FIRST_NAME', 'LAST_NAME', 'EMAIL', 'PHONE_NUMBER', 'HIRE_DATE', 'JOB_ID', 'SALARY']\n"
     ]
    }
   ],
   "source": [
    "print(\"Raw data loaded:\")\n",
    "print(df.head())\n",
    "print(\"Columns:\", df.columns.tolist())\n",
    "logging.info(\"CSV loaded successfully.\")"
   ]
  },
  {
   "cell_type": "code",
   "execution_count": 33,
   "id": "750b2815-55af-4b17-a475-b59b4975f05f",
   "metadata": {},
   "outputs": [],
   "source": [
    "df.fillna({\n",
    "    'EMAIL': 'not_provided@example.com',\n",
    "    'PHONE_NUMBER': '0000000000',\n",
    "    'HIRE_DATE': '01-Jan-00',\n",
    "    'SALARY': 0\n",
    "}, inplace=True)"
   ]
  },
  {
   "cell_type": "code",
   "execution_count": 34,
   "id": "dc178712-2220-4a98-97e0-374a3c2c1af0",
   "metadata": {},
   "outputs": [
    {
     "name": "stdout",
     "output_type": "stream",
     "text": [
      "['employee_id', 'first_name', 'last_name', 'email', 'phone_number', 'hire_date', 'job_id', 'salary']\n"
     ]
    }
   ],
   "source": [
    "df.columns = [col.strip().lower().replace(' ', '_') for col in df.columns]\n",
    "print(df.columns.tolist())\n",
    "df['hire_date'] = pd.to_datetime(df['hire_date'], format='%d-%b-%y', errors='coerce')\n",
    "df['hire_date'] = df['hire_date'].fillna(pd.to_datetime('2000-01-01'))\n",
    "df['salary'] = pd.to_numeric(df['salary'], errors='coerce').fillna(0).astype(int)\n",
    "\n",
    "logging.info(\"Data cleaning completed.\")"
   ]
  },
  {
   "cell_type": "code",
   "execution_count": 35,
   "id": "7df3220e-2be3-405f-b18a-d02fd66a1ea6",
   "metadata": {},
   "outputs": [],
   "source": [
    "mydb = None\n",
    "cursor = None\n",
    "\n",
    "mydb = mysql.connector.connect(\n",
    "  host=\"127.0.0.1\",\n",
    "  user=\"root\",\n",
    "  password=\"MySQLpraba23\",  # change to your MySQL password\n",
    "  database=\"employee\"\n",
    " )\n",
    "cursor = mydb.cursor()\n",
    "cursor.execute(\"\"\" \n",
    "    CREATE TABLE IF NOT EXISTS salary_2 ( \n",
    "      empid INT, \n",
    "      firstname VARCHAR(50), \n",
    "      lastname VARCHAR(50), \n",
    "      email VARCHAR(100), \n",
    "      phone VARCHAR(20), \n",
    "      hire_date DATE, \n",
    "      job_id VARCHAR(20), \n",
    "      salary INT \n",
    "     ) \n",
    "  \"\"\")"
   ]
  },
  {
   "cell_type": "code",
   "execution_count": 36,
   "id": "fef921e8-6b61-4579-9e08-14f56707ee99",
   "metadata": {},
   "outputs": [
    {
     "name": "stdout",
     "output_type": "stream",
     "text": [
      "ETL process completed successfully.\n"
     ]
    }
   ],
   "source": [
    "for index, row in df.iterrows(): \n",
    "    sql = \"\"\" \n",
    "        INSERT INTO salary_2 (empid, firstname, lastname, email, phone, \n",
    "hire_date, job_id, salary) \n",
    "        VALUES (%s, %s, %s, %s, %s, %s, %s, %s) \n",
    "        ON DUPLICATE KEY UPDATE \n",
    "            firstname=VALUES(firstname), \n",
    "            lastname=VALUES(lastname), \n",
    "            email=VALUES(email), \n",
    "            phone=VALUES(phone), \n",
    "            hire_date=VALUES(hire_date), \n",
    "            job_id=VALUES(job_id), \n",
    "            salary=VALUES(salary) \n",
    "    \"\"\" \n",
    "    values = ( \n",
    "        int(row['employee_id']), \n",
    "        row['first_name'], \n",
    "        row['last_name'], \n",
    "        row['email'], \n",
    "        row['phone_number'], \n",
    "        row['hire_date'].date(), \n",
    "        row['job_id'], \n",
    "        int(row['salary']) \n",
    "    ) \n",
    "    cursor.execute(sql, values) \n",
    " \n",
    "mydb.commit() \n",
    "cursor.close() \n",
    "mydb.close() \n",
    "logging.error(\"Something went wrong\", exc_info=True) \n",
    "print(\"ETL process completed successfully.\")"
   ]
  },
  {
   "cell_type": "code",
   "execution_count": 37,
   "id": "7ef3994f-0ddb-436c-afb9-e78784844870",
   "metadata": {},
   "outputs": [],
   "source": [
    "import os"
   ]
  },
  {
   "cell_type": "code",
   "execution_count": 38,
   "id": "1077f657-391a-457c-ab86-4905cae0eb8f",
   "metadata": {},
   "outputs": [
    {
     "name": "stdout",
     "output_type": "stream",
     "text": [
      "<built-in function getcwd>\n"
     ]
    }
   ],
   "source": [
    "print(os.getcwd)"
   ]
  },
  {
   "cell_type": "code",
   "execution_count": 39,
   "id": "b479656a-37b5-4b80-9b9f-e820ff97c3d1",
   "metadata": {},
   "outputs": [
    {
     "name": "stderr",
     "output_type": "stream",
     "text": [
      "[NbConvertApp] Converting notebook ETL.ipynb to script\n",
      "[NbConvertApp] Writing 2934 bytes to ETL.py\n"
     ]
    }
   ],
   "source": [
    "!jupyter nbconvert --to script ETL.ipynb "
   ]
  },
  {
   "cell_type": "code",
   "execution_count": null,
   "id": "6b8d2df4-c1e5-4f36-868e-75b72b532d70",
   "metadata": {},
   "outputs": [],
   "source": []
  },
  {
   "cell_type": "code",
   "execution_count": null,
   "id": "44b5a035-eb82-441e-83b6-bf18680bbed9",
   "metadata": {},
   "outputs": [],
   "source": []
  }
 ],
 "metadata": {
  "kernelspec": {
   "display_name": "Python 3 (ipykernel)",
   "language": "python",
   "name": "python3"
  },
  "language_info": {
   "codemirror_mode": {
    "name": "ipython",
    "version": 3
   },
   "file_extension": ".py",
   "mimetype": "text/x-python",
   "name": "python",
   "nbconvert_exporter": "python",
   "pygments_lexer": "ipython3",
   "version": "3.13.3"
  }
 },
 "nbformat": 4,
 "nbformat_minor": 5
}
